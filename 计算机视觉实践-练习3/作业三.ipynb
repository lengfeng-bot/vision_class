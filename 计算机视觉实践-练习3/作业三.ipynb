{
 "cells": [
  {
   "cell_type": "markdown",
   "metadata": {},
   "source": [
    "先将 图片真实值HR用Bicubic插值进行下采样，得到低分辨率的LR图像，作为超分辨率重建的输入。"
   ]
  },
  {
   "cell_type": "code",
   "execution_count": 1,
   "metadata": {},
   "outputs": [],
   "source": [
    "import cv2\n",
    "import os\n",
    "\n",
    "# 指定包含图像的文件夹路径\n",
    "folder_path = \"Set5/HR\"\n",
    "\n",
    "# 遍历文件夹中的所有文件\n",
    "for file_name in os.listdir(folder_path):\n",
    "    # 构建完整的文件路径\n",
    "    file_path = os.path.join(folder_path, file_name)\n",
    "    # 检查文件是否为图像\n",
    "    if file_path.lower().endswith((\".jpg\", \".jpeg\", \".png\", \".gif\")):\n",
    "        # 读取图像\n",
    "        image = cv2.imread(file_path)\n",
    "\n",
    "        # 计算下采样的新尺寸，这里我们将宽度和高度都减半\n",
    "        down_width = int(image.shape[1] * 0.5)\n",
    "        down_height = int(image.shape[0] * 0.5)\n",
    "        down_dimensions = (down_width, down_height)\n",
    "\n",
    "        # 使用Bicubic插值进行下采样\n",
    "        down_resized = cv2.resize(image, down_dimensions, interpolation=cv2.INTER_CUBIC)\n",
    "\n",
    "        # 计算上采样的尺寸，即原始图像的尺寸\n",
    "        up_width = image.shape[1]\n",
    "        up_height = image.shape[0]\n",
    "        up_dimensions = (up_width, up_height)\n",
    "\n",
    "        # 使用Bicubic插值进行上采样\n",
    "        up_resized = cv2.resize(\n",
    "            down_resized, up_dimensions, interpolation=cv2.INTER_CUBIC\n",
    "        )\n",
    "\n",
    "        # 如果需要，可以在这里添加更多的图像处理步骤\n",
    "\n",
    "        # 显示图像\n",
    "        # cv2.imshow(\"Processed Image\", up_resized)\n",
    "        # cv2.waitKey(0)\n",
    "        # cv2.destroyAllWindows()\n",
    "\n",
    "        # 保存处理后的图像\n",
    "        cv2.imwrite(\"Set5/LR/\" + file_name, up_resized)"
   ]
  },
  {
   "cell_type": "markdown",
   "metadata": {},
   "source": [
    "要缩放图像，您可以使用OpenCV库中的`cv2.resize()`函数。以下是一个示例代码，演示如何缩放图像：\n",
    "\n",
    "```python\n",
    "import cv2\n",
    "\n",
    "# 读取图像\n",
    "image = cv2.imread(\"Set5/LR/birdx4.png\")\n",
    "\n",
    "# 指定缩放后的尺寸\n",
    "new_width = 512\n",
    "new_height = 512\n",
    "new_dimensions = (new_width, new_height)\n",
    "\n",
    "# 使用插值方法进行缩放\n",
    "resized_image = cv2.resize(image, new_dimensions, interpolation=cv2.INTER_LINEAR)\n",
    "\n",
    "# 显示缩放后的图像\n",
    "cv2.imwrite(\"birdx4.jpg\", resized_image)\n"
   ]
  },
  {
   "cell_type": "code",
   "execution_count": 11,
   "metadata": {},
   "outputs": [
    {
     "data": {
      "text/plain": [
       "True"
      ]
     },
     "execution_count": 11,
     "metadata": {},
     "output_type": "execute_result"
    }
   ],
   "source": [
    "import cv2\n",
    "import os\n",
    "\n",
    "\n",
    "def process_images_from_folder(folder_path, output_folder):\n",
    "    # 检查输出文件夹是否存在，如果不存在则创建\n",
    "    if not os.path.exists(output_folder):\n",
    "        os.makedirs(output_folder)\n",
    "\n",
    "    # 遍历文件夹中的所有文件\n",
    "    for filename in os.listdir(folder_path):\n",
    "        # 构建完整的文件路径\n",
    "        file_path = os.path.join(folder_path, filename)\n",
    "\n",
    "        # 读取图像\n",
    "        image = cv2.imread(file_path)\n",
    "        if image is not None:\n",
    "            # 指定缩放后的尺寸\n",
    "            new_width = 512\n",
    "            new_height = 512\n",
    "            new_dimensions = (new_width, new_height)\n",
    "\n",
    "            # 使用插值方法进行缩放\n",
    "            resized_image = cv2.resize(image, new_dimensions)\n",
    "\n",
    "            # 构建输出文件路径\n",
    "            output_file_path = os.path.join(output_folder, filename)\n",
    "\n",
    "            # 保存缩放后的图像\n",
    "            cv2.imwrite(output_file_path, resized_image)\n",
    "        else:\n",
    "            print(f\"图像 {filename} 无法加载，可能是文件损坏或路径错误。\")\n",
    "\n",
    "\n",
    "# 调用函数\n",
    "process_images_from_folder(\"SCNet-main\\Set5\\LR\", \"SCNet-main\\Set5\\LR2\")"
   ]
  }
 ],
 "metadata": {
  "kernelspec": {
   "display_name": "mindspore",
   "language": "python",
   "name": "python3"
  },
  "language_info": {
   "codemirror_mode": {
    "name": "ipython",
    "version": 3
   },
   "file_extension": ".py",
   "mimetype": "text/x-python",
   "name": "python",
   "nbconvert_exporter": "python",
   "pygments_lexer": "ipython3",
   "version": "3.8.19"
  }
 },
 "nbformat": 4,
 "nbformat_minor": 2
}
