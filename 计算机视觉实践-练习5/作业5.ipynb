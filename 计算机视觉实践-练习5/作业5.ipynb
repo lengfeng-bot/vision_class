{
 "cells": [
  {
   "cell_type": "code",
   "execution_count": null,
   "metadata": {},
   "outputs": [],
   "source": [
    "import numpy as np\n",
    "def calculate_disparity(imgL, imgR, block_size, disparity_range):\n",
    "    # 获取图像的高度和宽度\n",
    "    h, w = imgL.shape\n",
    "\n",
    "    # 初始化视差图\n",
    "    disparity = np.zeros_like(imgL)\n",
    "\n",
    "    # 遍历每个像素点\n",
    "    for y in range(block_size, h - block_size):\n",
    "        for x in range(block_size, w - block_size):\n",
    "            # 获取左图的块\n",
    "            block_left = imgL[y - block_size:y + block_size + 1, x - block_size:x + block_size + 1]\n",
    "\n",
    "            # 初始化最小SSD和对应的视差\n",
    "            min_ssd = float('inf')\n",
    "            min_d = 0\n",
    "\n",
    "            # 在视差范围内搜索匹配块\n",
    "            for d in range(disparity_range):\n",
    "                # 确保不会超出图像范围\n",
    "                if x - d < block_size:\n",
    "                    continue\n",
    "\n",
    "                # 获取右图的块\n",
    "                block_right = imgR[y - block_size:y + block_size + 1, x - d - block_size:x - d + block_size + 1]\n",
    "\n",
    "                # 计算SSD（Sum of Squared Differences）\n",
    "                ssd = np.sum((block_left - block_right) ** 2)\n",
    "\n",
    "                # 更新最小SSD和对应的视差\n",
    "                if ssd < min_ssd:\n",
    "                    min_ssd = ssd\n",
    "                    min_d = d\n",
    "\n",
    "            # 将计算得到的视差值赋给视差图\n",
    "            disparity[y, x] = min_d\n",
    "\n",
    "    return disparity\n",
    "\n",
    "# 示例使用\n",
    "# 加载图像（这里需要你自己实现图像的加载，可以使用文件读取或其他方法）\n",
    "imgL = \"jpgs/1.jpg\"\n",
    "imgR = \"jpgs/2.jpg\"\n",
    "\n",
    "# 设置块大小和视差范围\n",
    "block_size = 5\n",
    "disparity_range = 16\n",
    "\n",
    "# 计算视差图\n",
    "disparity = calculate_disparity(imgL, imgR, block_size, disparity_range)\n",
    "\n",
    "# 这里需要你自己实现视差图的显示，可以使用matplotlib或其他方法"
   ]
  }
 ],
 "metadata": {
  "kernelspec": {
   "display_name": "mindspore",
   "language": "python",
   "name": "python3"
  },
  "language_info": {
   "codemirror_mode": {
    "name": "ipython",
    "version": 3
   },
   "file_extension": ".py",
   "mimetype": "text/x-python",
   "name": "python",
   "nbconvert_exporter": "python",
   "pygments_lexer": "ipython3",
   "version": "3.8.19"
  }
 },
 "nbformat": 4,
 "nbformat_minor": 2
}
