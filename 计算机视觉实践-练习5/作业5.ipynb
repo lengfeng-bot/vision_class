{
 "cells": [
  {
   "cell_type": "code",
   "execution_count": 7,
   "metadata": {},
   "outputs": [
    {
     "data": {
      "text/plain": [
       "True"
      ]
     },
     "execution_count": 7,
     "metadata": {},
     "output_type": "execute_result"
    }
   ],
   "source": [
    "import cv2\n",
    "import numpy as np\n",
    "\n",
    "# 读取左右两张图像\n",
    "left_image = cv2.imread(\"imgs/Art/view1.png\", cv2.IMREAD_GRAYSCALE)\n",
    "right_image = cv2.imread(\"imgs/Art/vew5.png\", cv2.IMREAD_GRAYSCALE)\n",
    "\n",
    "# 创建SGBM对象\n",
    "sgbm = cv2.StereoSGBM_create()\n",
    "\n",
    "# 设置SGBM参数\n",
    "sgbm.setMinDisparity(0)\n",
    "sgbm.setNumDisparities(16)\n",
    "sgbm.setBlockSize(3)  # 窗口大小\n",
    "sgbm.setP1(8 * 3 * 3)  # P1参数\n",
    "sgbm.setP2(32 * 3 * 3)  # P2参数\n",
    "sgbm.setUniquenessRatio(10)  # 唯一性检测参数\n",
    "sgbm.setSpeckleWindowSize(100)  # 视差连通区域像素点个数的大小\n",
    "sgbm.setSpeckleRange(10)  # 视差连通条件\n",
    "\n",
    "# 计算视差图\n",
    "disparity = sgbm.compute(left_image, right_image)\n",
    "disparity2 = sgbm.compute(right_image, left_image)\n",
    "\n",
    "\n",
    "cv2.imwrite(\"disparity1.png\", disparity)\n",
    "cv2.imwrite(\"disparity2.png\", disparity)\n",
    "\n",
    "# 可以进一步处理视差图，例如进行深度估计等"
   ]
  },
  {
   "cell_type": "code",
   "execution_count": 8,
   "metadata": {},
   "outputs": [
    {
     "ename": "error",
     "evalue": "OpenCV(4.9.0) D:\\a\\opencv-python\\opencv-python\\opencv\\modules\\highgui\\src\\window.cpp:1255: error: (-2:Unspecified error) The function is not implemented. Rebuild the library with Windows, GTK+ 2.x or Cocoa support. If you are on Ubuntu or Debian, install libgtk2.0-dev and pkg-config, then re-run cmake or configure script in function 'cvNamedWindow'\n",
     "output_type": "error",
     "traceback": [
      "\u001b[1;31m---------------------------------------------------------------------------\u001b[0m",
      "\u001b[1;31merror\u001b[0m                                     Traceback (most recent call last)",
      "Cell \u001b[1;32mIn[8], line 74\u001b[0m\n\u001b[0;32m     68\u001b[0m         cv2\u001b[38;5;241m.\u001b[39mimshow(\u001b[38;5;124m\"\u001b[39m\u001b[38;5;124mdisparity\u001b[39m\u001b[38;5;124m\"\u001b[39m, (disp \u001b[38;5;241m-\u001b[39m \u001b[38;5;28mself\u001b[39m\u001b[38;5;241m.\u001b[39mmin_disp) \u001b[38;5;241m/\u001b[39m \u001b[38;5;28mself\u001b[39m\u001b[38;5;241m.\u001b[39mnum_disp)\n\u001b[0;32m     72\u001b[0m \u001b[38;5;28;01mif\u001b[39;00m \u001b[38;5;18m__name__\u001b[39m \u001b[38;5;241m==\u001b[39m \u001b[38;5;124m\"\u001b[39m\u001b[38;5;124m__main__\u001b[39m\u001b[38;5;124m\"\u001b[39m:\n\u001b[1;32m---> 74\u001b[0m     sgm \u001b[38;5;241m=\u001b[39m \u001b[43mSGM\u001b[49m\u001b[43m(\u001b[49m\u001b[43m)\u001b[49m\n\u001b[0;32m     75\u001b[0m     left_image \u001b[38;5;241m=\u001b[39m cv2\u001b[38;5;241m.\u001b[39mimread(\u001b[38;5;124m\"\u001b[39m\u001b[38;5;124mimgs/Art/view1.png\u001b[39m\u001b[38;5;124m\"\u001b[39m, cv2\u001b[38;5;241m.\u001b[39mIMREAD_GRAYSCALE)\n\u001b[0;32m     76\u001b[0m     right_image \u001b[38;5;241m=\u001b[39m cv2\u001b[38;5;241m.\u001b[39mimread(\u001b[38;5;124m\"\u001b[39m\u001b[38;5;124mimgs/Art/vew5.png\u001b[39m\u001b[38;5;124m\"\u001b[39m, cv2\u001b[38;5;241m.\u001b[39mIMREAD_GRAYSCALE)\n",
      "Cell \u001b[1;32mIn[8], line 33\u001b[0m, in \u001b[0;36mSGM.__init__\u001b[1;34m(self)\u001b[0m\n\u001b[0;32m     30\u001b[0m P2 \u001b[38;5;241m=\u001b[39m \u001b[38;5;241m2400\u001b[39m\n\u001b[0;32m     32\u001b[0m \u001b[38;5;66;03m# Adjust parameters in window.\u001b[39;00m\n\u001b[1;32m---> 33\u001b[0m \u001b[43mcv2\u001b[49m\u001b[38;5;241;43m.\u001b[39;49m\u001b[43mnamedWindow\u001b[49m\u001b[43m(\u001b[49m\u001b[38;5;124;43m\"\u001b[39;49m\u001b[38;5;124;43mdisparity\u001b[39;49m\u001b[38;5;124;43m\"\u001b[39;49m\u001b[43m)\u001b[49m\n\u001b[0;32m     34\u001b[0m cv2\u001b[38;5;241m.\u001b[39mcreateTrackbar(\u001b[38;5;124m\"\u001b[39m\u001b[38;5;124mspeckleRange\u001b[39m\u001b[38;5;124m\"\u001b[39m, \u001b[38;5;124m\"\u001b[39m\u001b[38;5;124mdisparity\u001b[39m\u001b[38;5;124m\"\u001b[39m, speckleRange, \u001b[38;5;241m50\u001b[39m, nothing)\n\u001b[0;32m     35\u001b[0m cv2\u001b[38;5;241m.\u001b[39mcreateTrackbar(\u001b[38;5;124m\"\u001b[39m\u001b[38;5;124mwindow_size\u001b[39m\u001b[38;5;124m\"\u001b[39m, \u001b[38;5;124m\"\u001b[39m\u001b[38;5;124mdisparity\u001b[39m\u001b[38;5;124m\"\u001b[39m, window_size, \u001b[38;5;241m21\u001b[39m, nothing)\n",
      "\u001b[1;31merror\u001b[0m: OpenCV(4.9.0) D:\\a\\opencv-python\\opencv-python\\opencv\\modules\\highgui\\src\\window.cpp:1255: error: (-2:Unspecified error) The function is not implemented. Rebuild the library with Windows, GTK+ 2.x or Cocoa support. If you are on Ubuntu or Debian, install libgtk2.0-dev and pkg-config, then re-run cmake or configure script in function 'cvNamedWindow'\n"
     ]
    }
   ],
   "source": [
    "# -- coding: utf-8 --\n",
    "# @Author:  Kaixiang Song\n",
    "# @Project: VideoCapture\n",
    "# @File:    stereo_camera.py\n",
    "# @Time:    2020/2/7 17:43\n",
    "\n",
    "import cv2\n",
    "import numpy as np\n",
    "\n",
    "\n",
    "class SGM:\n",
    "    \"\"\"\n",
    "    Stereo Matching With SGM.\n",
    "    \"\"\"\n",
    "\n",
    "    def __init__(self):\n",
    "\n",
    "        def nothing(x):\n",
    "            pass\n",
    "\n",
    "        # Parameters.\n",
    "        window_size = 5\n",
    "        self.min_disp = 16\n",
    "        self.num_disp = 192 - self.min_disp\n",
    "        uniquenessRatio = 1\n",
    "        speckleRange = 3\n",
    "        speckleWindowSize = 3\n",
    "        disp12MaxDiff = 200\n",
    "        P1 = 600\n",
    "        P2 = 2400\n",
    "\n",
    "        # Adjust parameters in window.\n",
    "        cv2.namedWindow(\"disparity\")\n",
    "        cv2.createTrackbar(\"speckleRange\", \"disparity\", speckleRange, 50, nothing)\n",
    "        cv2.createTrackbar(\"window_size\", \"disparity\", window_size, 21, nothing)\n",
    "        cv2.createTrackbar(\n",
    "            \"speckleWindowSize\", \"disparity\", speckleWindowSize, 200, nothing\n",
    "        )\n",
    "        cv2.createTrackbar(\"uniquenessRatio\", \"disparity\", uniquenessRatio, 50, nothing)\n",
    "        cv2.createTrackbar(\"disp12MaxDiff\", \"disparity\", disp12MaxDiff, 250, nothing)\n",
    "\n",
    "        self.stereo = cv2.StereoSGBM_create(\n",
    "            minDisparity=self.min_disp,\n",
    "            numDisparities=self.num_disp,\n",
    "            blockSize=window_size,\n",
    "            uniquenessRatio=uniquenessRatio,\n",
    "            speckleRange=speckleRange,\n",
    "            speckleWindowSize=speckleWindowSize,\n",
    "            disp12MaxDiff=disp12MaxDiff,\n",
    "            P1=P1,\n",
    "            P2=P2,\n",
    "        )\n",
    "\n",
    "    def update_and_compute(self, left, right):\n",
    "        self.stereo.setBlockSize(cv2.getTrackbarPos(\"window_size\", \"disparity\"))\n",
    "        self.stereo.setUniquenessRatio(\n",
    "            cv2.getTrackbarPos(\"uniquenessRatio\", \"disparity\")\n",
    "        )\n",
    "        self.stereo.setSpeckleWindowSize(\n",
    "            cv2.getTrackbarPos(\"speckleWindowSize\", \"disparity\")\n",
    "        )\n",
    "        self.stereo.setSpeckleRange(cv2.getTrackbarPos(\"speckleRange\", \"disparity\"))\n",
    "        self.stereo.setDisp12MaxDiff(cv2.getTrackbarPos(\"disp12MaxDiff\", \"disparity\"))\n",
    "\n",
    "        print(\"computing disparity...\")\n",
    "        disp = self.stereo.compute(left, right).astype(np.float32) / 16.0\n",
    "\n",
    "        cv2.imshow(\"disparity\", (disp - self.min_disp) / self.num_disp)\n",
    "\n",
    "\n",
    "\n",
    "if __name__ == \"__main__\":\n",
    "\n",
    "    sgm = SGM()\n",
    "    left_image = cv2.imread(\"imgs/Art/view1.png\", cv2.IMREAD_GRAYSCALE)\n",
    "    right_image = cv2.imread(\"imgs/Art/vew5.png\", cv2.IMREAD_GRAYSCALE)\n",
    "    cv2.imshow(\"left\", left_image)\n",
    "    cv2.imshow(\"right\", right_image)\n",
    "    sgm.update_and_compute(left_image, right_image)\n",
    "    cv2.waitKey(1)"
   ]
  }
 ],
 "metadata": {
  "kernelspec": {
   "display_name": "mindspore",
   "language": "python",
   "name": "python3"
  },
  "language_info": {
   "codemirror_mode": {
    "name": "ipython",
    "version": 3
   },
   "file_extension": ".py",
   "mimetype": "text/x-python",
   "name": "python",
   "nbconvert_exporter": "python",
   "pygments_lexer": "ipython3",
   "version": "3.8.19"
  }
 },
 "nbformat": 4,
 "nbformat_minor": 2
}
