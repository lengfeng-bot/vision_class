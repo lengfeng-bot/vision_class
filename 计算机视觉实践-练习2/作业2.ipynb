{
 "cells": [
  {
   "cell_type": "code",
   "execution_count": 1,
   "metadata": {},
   "outputs": [
    {
     "name": "stderr",
     "output_type": "stream",
     "text": [
      "[WARNING] ME(11404:16908,MainProcess):2024-04-26-01:48:46.456.812 [mindspore\\dataset\\core\\validator_helpers.py:744] 'Resize' from mindspore.dataset.vision.c_transforms is deprecated from version 1.8 and will be removed in a future version. Use 'Resize' from mindspore.dataset.vision instead.\n",
      "[WARNING] ME(11404:16908,MainProcess):2024-04-26-01:48:46.457.817 [mindspore\\dataset\\core\\validator_helpers.py:744] 'Rescale' from mindspore.dataset.vision.c_transforms is deprecated from version 1.8 and will be removed in a future version. Use 'Rescale' from mindspore.dataset.vision instead.\n",
      "[WARNING] ME(11404:16908,MainProcess):2024-04-26-01:48:46.457.817 [mindspore\\dataset\\core\\validator_helpers.py:744] 'Rescale' from mindspore.dataset.vision.c_transforms is deprecated from version 1.8 and will be removed in a future version. Use 'Rescale' from mindspore.dataset.vision instead.\n",
      "[WARNING] ME(11404:16908,MainProcess):2024-04-26-01:48:46.458.813 [mindspore\\dataset\\core\\validator_helpers.py:744] 'HWC2CHW' from mindspore.dataset.vision.c_transforms is deprecated from version 1.8 and will be removed in a future version. Use 'HWC2CHW' from mindspore.dataset.vision instead.\n",
      "[WARNING] ME(11404:16908,MainProcess):2024-04-26-01:48:46.458.813 [mindspore\\dataset\\core\\validator_helpers.py:744] 'Resize' from mindspore.dataset.vision.c_transforms is deprecated from version 1.8 and will be removed in a future version. Use 'Resize' from mindspore.dataset.vision instead.\n",
      "[WARNING] ME(11404:16908,MainProcess):2024-04-26-01:48:46.459.814 [mindspore\\dataset\\core\\validator_helpers.py:744] 'Rescale' from mindspore.dataset.vision.c_transforms is deprecated from version 1.8 and will be removed in a future version. Use 'Rescale' from mindspore.dataset.vision instead.\n",
      "[WARNING] ME(11404:16908,MainProcess):2024-04-26-01:48:46.459.814 [mindspore\\dataset\\core\\validator_helpers.py:744] 'Rescale' from mindspore.dataset.vision.c_transforms is deprecated from version 1.8 and will be removed in a future version. Use 'Rescale' from mindspore.dataset.vision instead.\n",
      "[WARNING] ME(11404:16908,MainProcess):2024-04-26-01:48:46.460.814 [mindspore\\dataset\\core\\validator_helpers.py:744] 'HWC2CHW' from mindspore.dataset.vision.c_transforms is deprecated from version 1.8 and will be removed in a future version. Use 'HWC2CHW' from mindspore.dataset.vision instead.\n"
     ]
    }
   ],
   "source": [
    "from mindvision.dataset import Mnist\n",
    "\n",
    "# 下载并处理MNIST数据集\n",
    "download_train = Mnist(\n",
    "    path=\"./mnist\",\n",
    "    split=\"train\",\n",
    "    batch_size=32,\n",
    "    repeat_num=1,\n",
    "    shuffle=True,\n",
    "    resize=32,\n",
    "    download=True,\n",
    ")\n",
    "\n",
    "download_eval = Mnist(\n",
    "    path=\"./mnist\", split=\"test\", batch_size=32, resize=32, download=True\n",
    ")\n",
    "\n",
    "dataset_train = download_train.run()\n",
    "dataset_eval = download_eval.run()"
   ]
  },
  {
   "cell_type": "code",
   "execution_count": 2,
   "metadata": {},
   "outputs": [],
   "source": [
    "from mindvision.classification.models import lenet\n",
    "\n",
    "network = lenet(num_classes=10, pretrained=False)\n"
   ]
  },
  {
   "cell_type": "code",
   "execution_count": 3,
   "metadata": {},
   "outputs": [],
   "source": [
    "import mindspore.nn as nn\n",
    "\n",
    "# 定义损失函数\n",
    "net_loss = nn.SoftmaxCrossEntropyWithLogits(sparse=True, reduction=\"mean\")\n",
    "\n",
    "# 定义优化器函数\n",
    "net_opt = nn.Momentum(network.trainable_params(), learning_rate=0.01, momentum=0.9)"
   ]
  },
  {
   "cell_type": "code",
   "execution_count": 4,
   "metadata": {},
   "outputs": [],
   "source": [
    "from mindspore.train.callback import ModelCheckpoint, CheckpointConfig\n",
    "\n",
    "# 设置模型保存参数，模型训练保存参数的step为1875\n",
    "config_ck = CheckpointConfig(save_checkpoint_steps=1875, keep_checkpoint_max=10)\n",
    "\n",
    "# 应用模型保存参数\n",
    "ckpoint = ModelCheckpoint(prefix=\"lenet\", directory=\"./lenet\", config=config_ck)"
   ]
  },
  {
   "cell_type": "code",
   "execution_count": null,
   "metadata": {},
   "outputs": [],
   "source": []
  },
  {
   "cell_type": "code",
   "execution_count": 5,
   "metadata": {},
   "outputs": [
    {
     "name": "stdout",
     "output_type": "stream",
     "text": [
      "Epoch:[  0/ 10], step:[ 1875/ 1875], loss:[0.042/0.439], time:10.000 ms, lr:0.01000\n",
      "Epoch time: 10180.968 ms, per step time: 5.430 ms, avg loss: 0.439\n",
      "Epoch:[  1/ 10], step:[ 1875/ 1875], loss:[0.017/0.059], time:9.000 ms, lr:0.01000\n",
      "Epoch time: 9887.465 ms, per step time: 5.273 ms, avg loss: 0.059\n",
      "Epoch:[  2/ 10], step:[ 1875/ 1875], loss:[0.022/0.043], time:10.000 ms, lr:0.01000\n",
      "Epoch time: 10100.705 ms, per step time: 5.387 ms, avg loss: 0.043\n",
      "Epoch:[  3/ 10], step:[ 1875/ 1875], loss:[0.004/0.032], time:9.000 ms, lr:0.01000\n",
      "Epoch time: 10261.483 ms, per step time: 5.473 ms, avg loss: 0.032\n",
      "Epoch:[  4/ 10], step:[ 1875/ 1875], loss:[0.020/0.026], time:8.999 ms, lr:0.01000\n",
      "Epoch time: 9793.327 ms, per step time: 5.223 ms, avg loss: 0.026\n",
      "Epoch:[  5/ 10], step:[ 1875/ 1875], loss:[0.025/0.024], time:9.050 ms, lr:0.01000\n",
      "Epoch time: 10186.386 ms, per step time: 5.433 ms, avg loss: 0.024\n",
      "Epoch:[  6/ 10], step:[ 1875/ 1875], loss:[0.000/0.020], time:9.001 ms, lr:0.01000\n",
      "Epoch time: 9667.573 ms, per step time: 5.156 ms, avg loss: 0.020\n",
      "Epoch:[  7/ 10], step:[ 1875/ 1875], loss:[0.001/0.017], time:8.000 ms, lr:0.01000\n",
      "Epoch time: 9733.880 ms, per step time: 5.191 ms, avg loss: 0.017\n",
      "Epoch:[  8/ 10], step:[ 1875/ 1875], loss:[0.281/0.014], time:8.999 ms, lr:0.01000\n",
      "Epoch time: 9319.870 ms, per step time: 4.971 ms, avg loss: 0.014\n",
      "Epoch:[  9/ 10], step:[ 1875/ 1875], loss:[0.001/0.015], time:8.000 ms, lr:0.01000\n",
      "Epoch time: 9839.330 ms, per step time: 5.248 ms, avg loss: 0.015\n"
     ]
    }
   ],
   "source": [
    "from mindvision.engine.callback import LossMonitor\n",
    "from mindspore.train import Model\n",
    "\n",
    "# 初始化模型参数\n",
    "model = Model(network, loss_fn=net_loss, optimizer=net_opt, metrics={\"accuracy\"})\n",
    "\n",
    "# 训练网络模型，并保存为lenet-1_1875.ckpt文件\n",
    "model.train(10, dataset_train, callbacks=[ckpoint, LossMonitor(0.01, 1875)])"
   ]
  },
  {
   "cell_type": "code",
   "execution_count": 6,
   "metadata": {},
   "outputs": [
    {
     "name": "stdout",
     "output_type": "stream",
     "text": [
      "{'accuracy': 0.9898838141025641}\n"
     ]
    }
   ],
   "source": [
    "acc = model.eval(dataset_eval)\n",
    "\n",
    "print(\"{}\".format(acc))"
   ]
  },
  {
   "cell_type": "code",
   "execution_count": 7,
   "metadata": {},
   "outputs": [
    {
     "data": {
      "text/plain": [
       "([],\n",
       " ['global_step',\n",
       "  'learning_rate',\n",
       "  'momentum',\n",
       "  'moments.backbone.conv1.weight',\n",
       "  'moments.backbone.conv2.weight',\n",
       "  'moments.backbone.fc1.weight',\n",
       "  'moments.backbone.fc1.bias',\n",
       "  'moments.backbone.fc2.weight',\n",
       "  'moments.backbone.fc2.bias',\n",
       "  'moments.backbone.fc3.weight',\n",
       "  'moments.backbone.fc3.bias'])"
      ]
     },
     "execution_count": 7,
     "metadata": {},
     "output_type": "execute_result"
    }
   ],
   "source": [
    "from mindspore import load_checkpoint, load_param_into_net\n",
    "\n",
    "# 加载已经保存的用于测试的模型\n",
    "param_dict = load_checkpoint(\"./lenet/lenet-1_1875.ckpt\")\n",
    "# 加载参数到网络中\n",
    "load_param_into_net(network, param_dict)"
   ]
  },
  {
   "cell_type": "code",
   "execution_count": 8,
   "metadata": {},
   "outputs": [
    {
     "name": "stderr",
     "output_type": "stream",
     "text": [
      "[WARNING] ME(11404:16908,MainProcess):2024-04-26-01:50:28.365.352 [mindspore\\dataset\\core\\validator_helpers.py:744] 'Resize' from mindspore.dataset.vision.c_transforms is deprecated from version 1.8 and will be removed in a future version. Use 'Resize' from mindspore.dataset.vision instead.\n",
      "[WARNING] ME(11404:16908,MainProcess):2024-04-26-01:50:28.365.352 [mindspore\\dataset\\core\\validator_helpers.py:744] 'Rescale' from mindspore.dataset.vision.c_transforms is deprecated from version 1.8 and will be removed in a future version. Use 'Rescale' from mindspore.dataset.vision instead.\n",
      "[WARNING] ME(11404:16908,MainProcess):2024-04-26-01:50:28.366.352 [mindspore\\dataset\\core\\validator_helpers.py:744] 'Rescale' from mindspore.dataset.vision.c_transforms is deprecated from version 1.8 and will be removed in a future version. Use 'Rescale' from mindspore.dataset.vision instead.\n",
      "[WARNING] ME(11404:16908,MainProcess):2024-04-26-01:50:28.366.352 [mindspore\\dataset\\core\\validator_helpers.py:744] 'HWC2CHW' from mindspore.dataset.vision.c_transforms is deprecated from version 1.8 and will be removed in a future version. Use 'HWC2CHW' from mindspore.dataset.vision instead.\n"
     ]
    },
    {
     "data": {
      "image/png": "[encoded data removed]",
      "text/plain": [
       "<Figure size 640x480 with 6 Axes>"
      ]
     },
     "metadata": {},
     "output_type": "display_data"
    },
    {
     "name": "stdout",
     "output_type": "stream",
     "text": [
      "Predicted: \"[2 8 7 0 4 6]\", Actual: \"[2 8 7 0 4 6]\"\n"
     ]
    }
   ],
   "source": [
    "import numpy as np\n",
    "from mindspore import Tensor\n",
    "import matplotlib.pyplot as plt\n",
    "\n",
    "mnist = Mnist(\"./mnist\", split=\"train\", batch_size=6, resize=32)\n",
    "dataset_infer = mnist.run()\n",
    "ds_test = dataset_infer.create_dict_iterator()\n",
    "data = next(ds_test)\n",
    "images = data[\"image\"].asnumpy()\n",
    "labels = data[\"label\"].asnumpy()\n",
    "\n",
    "plt.figure()\n",
    "for i in range(1, 7):\n",
    "    plt.subplot(2, 3, i)\n",
    "    plt.imshow(images[i - 1][0], interpolation=\"None\", cmap=\"gray\")\n",
    "plt.show()\n",
    "\n",
    "# 使用函数model.predict预测image对应分类\n",
    "output = model.predict(Tensor(data[\"image\"]))\n",
    "predicted = np.argmax(output.asnumpy(), axis=1)\n",
    "\n",
    "# 输出预测分类与实际分类\n",
    "print(f'Predicted: \"{predicted}\", Actual: \"{labels}\"')\n",
    "\n",
    "\n",
    "# 从上面的打印结果可以看出，预测值与目标值完全一致。"
   ]
  },
  {
   "cell_type": "code",
   "execution_count": null,
   "metadata": {},
   "outputs": [],
   "source": [
    "import mindspore.dataset as ds\n",
    "import mindspore.dataset.vision as vision\n",
    "import mindspore.dataset.transforms as transforms\n",
    "from mindspore.dataset.vision import Inter\n",
    "import mindspore as ms\n",
    "import mindspore.nn as nn\n",
    "\n",
    "from mindspore.common.initializer import Normal\n",
    "from mindspore.train import (\n",
    "    Accuracy,\n",
    "    LossMonitor,\n",
    "    CheckpointConfig,\n",
    "    ModelCheckpoint,\n",
    "    TimeMonitor,\n",
    "    Model,\n",
    ")\n",
    "\n",
    "ms.set_seed(1)\n",
    "\n",
    "\n",
    "def create_dataset(data_path, batch_size=32, repeat_size=1, num_parallel_workers=1):\n",
    "    \"\"\"\n",
    "    create dataset for train or test\n",
    "    \"\"\"\n",
    "    # define dataset\n",
    "    mnist_ds = ds.MnistDataset(data_path, shuffle=False)\n",
    "\n",
    "    resize_height, resize_width = 32, 32\n",
    "    rescale = 1.0 / 255.0\n",
    "    shift = 0.0\n",
    "    rescale_nml = 1 / 0.3081\n",
    "    shift_nml = -1 * 0.1307 / 0.3081\n",
    "\n",
    "    # define map operations\n",
    "    resize_op = vision.Resize(\n",
    "        (resize_height, resize_width), interpolation=Inter.LINEAR\n",
    "    )  # Bilinear mode\n",
    "    rescale_nml_op = vision.Rescale(rescale_nml, shift_nml)\n",
    "    rescale_op = vision.Rescale(rescale, shift)\n",
    "    hwc2chw_op = vision.HWC2CHW()\n",
    "    type_cast_op = transforms.TypeCast(ms.int32)\n",
    "\n",
    "    # apply map operations on images\n",
    "    mnist_ds = mnist_ds.map(\n",
    "        operations=type_cast_op,\n",
    "        input_columns=\"label\",\n",
    "        num_parallel_workers=num_parallel_workers,\n",
    "    )\n",
    "    mnist_ds = mnist_ds.map(\n",
    "        operations=resize_op,\n",
    "        input_columns=\"image\",\n",
    "        num_parallel_workers=num_parallel_workers,\n",
    "    )\n",
    "    mnist_ds = mnist_ds.map(\n",
    "        operations=rescale_op,\n",
    "        input_columns=\"image\",\n",
    "        num_parallel_workers=num_parallel_workers,\n",
    "    )\n",
    "    mnist_ds = mnist_ds.map(\n",
    "        operations=rescale_nml_op,\n",
    "        input_columns=\"image\",\n",
    "        num_parallel_workers=num_parallel_workers,\n",
    "    )\n",
    "    mnist_ds = mnist_ds.map(\n",
    "        operations=hwc2chw_op,\n",
    "        input_columns=\"image\",\n",
    "        num_parallel_workers=num_parallel_workers,\n",
    "    )\n",
    "\n",
    "    # apply DatasetOps\n",
    "    buffer_size = 10000\n",
    "    mnist_ds = mnist_ds.shuffle(\n",
    "        buffer_size=buffer_size\n",
    "    )  # 10000 as in LeNet train script\n",
    "    mnist_ds = mnist_ds.batch(batch_size, drop_remainder=True)\n",
    "    mnist_ds = mnist_ds.repeat(repeat_size)\n",
    "\n",
    "    return mnist_ds\n",
    "\n",
    "\n",
    "class LeNet5(nn.Cell):\n",
    "    \"\"\"\n",
    "    Lenet network\n",
    "\n",
    "    Args:\n",
    "        num_class (int): Number of classes. Default: 10.\n",
    "        num_channel (int): Number of channels. Default: 1.\n",
    "\n",
    "    Returns:\n",
    "        Tensor, output tensor\n",
    "    Examples:\n",
    "    LeNet(num_class=10)\n",
    "\n",
    "    \"\"\"\n",
    "\n",
    "    def __init__(self, num_class=10, num_channel=1, include_top=True):\n",
    "        super(LeNet5, self).__init__()\n",
    "        self.conv1 = nn.Conv2d(\n",
    "            num_channel, 6, 5, pad_mode=\"valid\", weight_init=Normal(0.02)\n",
    "        )\n",
    "        self.conv2 = nn.Conv2d(6, 16, 5, pad_mode=\"valid\", weight_init=Normal(0.02))\n",
    "        self.relu = nn.ReLU()\n",
    "        self.max_pool2d = nn.MaxPool2d(kernel_size=2, stride=2)\n",
    "        self.include_top = include_top\n",
    "        if self.include_top:\n",
    "            self.flatten = nn.Flatten()\n",
    "            self.fc1 = nn.Dense(16 * 5 * 5, 120)\n",
    "            self.fc2 = nn.Dense(120, 84)\n",
    "            self.fc3 = nn.Dense(84, num_class)\n",
    "\n",
    "    def construct(self, x):\n",
    "        x = self.conv1(x)\n",
    "        x = self.relu(x)\n",
    "        x = self.max_pool2d(x)\n",
    "        x = self.conv2(x)\n",
    "        x = self.relu(x)\n",
    "        x = self.max_pool2d(x)\n",
    "        if not self.include_top:\n",
    "            return x\n",
    "        x = self.flatten(x)\n",
    "        x = self.relu(self.fc1(x))\n",
    "        x = self.relu(self.fc2(x))\n",
    "        x = self.fc3(x)\n",
    "        return x\n",
    "\n",
    "\n",
    "def train_lenet():\n",
    "    ms.set_context(mode=ms.GRAPH_MODE, device_target=\"GPU\")\n",
    "    from mindvision.dataset import Mnist\n",
    "\n",
    "    # 下载并处理MNIST数据集\n",
    "    download_train = Mnist(\n",
    "        path=\"./mnist\",\n",
    "        split=\"train\",\n",
    "        batch_size=32,\n",
    "        repeat_num=1,\n",
    "        shuffle=True,\n",
    "        resize=32,\n",
    "        download=True,\n",
    "    )\n",
    "\n",
    "    download_eval = Mnist(\n",
    "        path=\"./mnist\", split=\"test\", batch_size=32, resize=32, download=True\n",
    "    )\n",
    "\n",
    "    dataset_train = download_train.run()\n",
    "    dataset_eval = download_eval.run()\n",
    "    data_path = dataset_train\n",
    "    ds_train = create_dataset(data_path)\n",
    "\n",
    "    network = LeNet5(10)\n",
    "    net_loss = nn.SoftmaxCrossEntropyWithLogits(sparse=True, reduction=\"mean\")\n",
    "    net_opt = nn.Momentum(network.trainable_params(), 0.01, 0.9)\n",
    "    time_cb = TimeMonitor(data_size=ds_train.get_dataset_size())\n",
    "    config_ck = CheckpointConfig(save_checkpoint_steps=1875, keep_checkpoint_max=10)\n",
    "    ckpoint_cb = ModelCheckpoint(prefix=\"checkpoint_lenet\", config=config_ck)\n",
    "    model = Model(network, net_loss, net_opt, metrics={\"Accuracy\": Accuracy()})\n",
    "    summary_dir = \"./summary/lenet_test2\"\n",
    "    interval_1 = [x for x in range(1, 4)]\n",
    "    interval_2 = [x for x in range(7, 11)]\n",
    "    ##Collector landscape information\n",
    "    summary_collector = ms.SummaryCollector(\n",
    "        summary_dir,\n",
    "        keep_default_action=True,\n",
    "        collect_specified_data={\n",
    "            \"collect_landscape\": {\n",
    "                \"landscape_size\": 10,\n",
    "                \"unit\": \"epoch\",\n",
    "                \"create_landscape\": {\"train\": True, \"result\": True},\n",
    "                \"num_samples\": 512,\n",
    "                \"intervals\": [interval_1, interval_2],\n",
    "            }\n",
    "        },\n",
    "        collect_freq=1,\n",
    "    )\n",
    "\n",
    "    print(\"============== Starting Training ==============\")\n",
    "    model.train(\n",
    "        10, ds_train, callbacks=[time_cb, ckpoint_cb, LossMonitor(), summary_collector]\n",
    "    )\n",
    "\n",
    "\n",
    "if __name__ == \"__main__\":\n",
    "    train_lenet()"
   ]
  }
 ],
 "metadata": {
  "kernelspec": {
   "display_name": "mindspore",
   "language": "python",
   "name": "python3"
  },
  "language_info": {
   "codemirror_mode": {
    "name": "ipython",
    "version": 3
   },
   "file_extension": ".py",
   "mimetype": "text/x-python",
   "name": "python",
   "nbconvert_exporter": "python",
   "pygments_lexer": "ipython3",
   "version": "3.8.19"
  }
 },
 "nbformat": 4,
 "nbformat_minor": 2
}
