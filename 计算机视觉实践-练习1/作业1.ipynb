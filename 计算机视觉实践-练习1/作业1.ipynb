{
 "cells": [
  {
   "cell_type": "markdown",
   "metadata": {},
   "source": [
    "\n",
    "为了实现图像拼接程序。我将按照以下步骤进行测试。\n",
    "\n",
    "1. 提取图片SIFT特征\n",
    "2. 对两张图片进行特征匹配\n",
    "3. 对两张图片进行拼接\n",
    "4. 合并拼接后的图片\n",
    "\n"
   ]
  },
  {
   "cell_type": "markdown",
   "metadata": {},
   "source": [
    "步骤1 ： 提取图像SIFT特征，并且进行显示"
   ]
  },
  {
   "cell_type": "code",
   "execution_count": 22,
   "metadata": {},
   "outputs": [],
   "source": [
    "import numpy as np\n",
    "import cv2\n",
    "import matplotlib.pyplot as plt\n",
    "\n",
    "\n",
    "def extract_features(img, threshold=0.04):\n",
    "    # 初始化SIFT检测器\n",
    "    sift = cv2.SIFT_create(contrastThreshold=threshold)\n",
    "\n",
    "    #gray = cv2.cvtColor(img, cv2.COLOR_BGR2GRAY)\n",
    "    # 检测关键点和计算描述符\n",
    "    keypoints, descriptors = sift.detectAndCompute(img, None)\n",
    "\n",
    "    return keypoints, descriptors\n",
    "\n",
    "\n",
    "# Load the image\n",
    "# image = cv2.imread(\"jpgs/1.jpg\")\n",
    "# keypoints,_ = extract_features(image)\n",
    "# # Draw keypoints on the image\n",
    "# cv2.drawKeypoints(image, keypoints, image, flags=cv2.DRAW_MATCHES_FLAGS_DEFAULT)\n",
    "# cv2.imwrite(\"sift_keypoints.jpg\", image)\n",
    "# plt.imshow(image)\n",
    "# plt.axis(\"off\")\n",
    "# plt.show()"
   ]
  },
  {
   "cell_type": "markdown",
   "metadata": {},
   "source": [
    "步骤2：对两张图片进行特征匹配"
   ]
  },
  {
   "cell_type": "code",
   "execution_count": 20,
   "metadata": {},
   "outputs": [],
   "source": [
    "import cv2\n",
    "\n",
    "\n",
    "def match_images(img1, img2):\n",
    "\n",
    "    # Detect keypoints and compute descriptors for both images\n",
    "    keypoints1, descriptors1 = extract_features(img1)\n",
    "    keypoints2, descriptors2 = extract_features(img2)\n",
    "\n",
    "    # Initialize FLANN matcher\n",
    "    FLANN_INDEX_KDTREE = 1\n",
    "    index_params = dict(algorithm=FLANN_INDEX_KDTREE, trees=5)\n",
    "    search_params = dict(checks=50)\n",
    "    flann = cv2.FlannBasedMatcher(index_params, search_params)\n",
    "\n",
    "    # Match descriptors using KNN matching\n",
    "    matches = flann.knnMatch(descriptors1, descriptors2, k=2)\n",
    "\n",
    "    # Apply Lowe's ratio test to filter good matches\n",
    "    good_matches = []\n",
    "    for m, n in matches:\n",
    "        if m.distance < 0.7 * n.distance:\n",
    "            good_matches.append(m)\n",
    "\n",
    "    # Draw matches\n",
    "    # matched_img = cv2.drawMatches(\n",
    "    #     img1,\n",
    "    #     keypoints1,\n",
    "    #     img2,\n",
    "    #     keypoints2,\n",
    "    #     good_matches,\n",
    "    #     None,\n",
    "    #     flags=cv2.DrawMatchesFlags_NOT_DRAW_SINGLE_POINTS,\n",
    "    # )\n",
    "\n",
    "    return good_matches\n",
    "\n",
    "\n",
    "# Example usage:\n",
    "# img1 = cv2.imread(\"jpgs/1.jpg\")\n",
    "# img2 = cv2.imread(\"jpgs/2.jpg\")\n",
    "# matched_image = match_images(img1, img2)\n",
    "# cv2.imwrite(\"Matched_Image.jpg\", matched_image)\n",
    "# plt.imshow(matched_image)\n",
    "# plt.axis(\"off\")\n",
    "# plt.show()"
   ]
  },
  {
   "cell_type": "markdown",
   "metadata": {},
   "source": [
    "步骤3：对两张图片进行拼接\n",
    "\n",
    "通过使用之前匹配的关键点对，可以估计两张图片之间的几何变换。具体做法是寻找一个单应性矩阵，用来对齐坐标系。"
   ]
  },
  {
   "cell_type": "code",
   "execution_count": 23,
   "metadata": {},
   "outputs": [
    {
     "ename": "error",
     "evalue": "OpenCV(4.9.0) :-1: error: (-5:Bad argument) in function 'detectAndCompute'\n> Overload resolution failed:\n>  - image is not a numerical tuple\n>  - Expected Ptr<cv::UMat> for argument 'image'\n",
     "output_type": "error",
     "traceback": [
      "\u001b[1;31m---------------------------------------------------------------------------\u001b[0m",
      "\u001b[1;31merror\u001b[0m                                     Traceback (most recent call last)",
      "Cell \u001b[1;32mIn[23], line 38\u001b[0m\n\u001b[0;32m     35\u001b[0m img1 \u001b[38;5;241m=\u001b[39m cv2\u001b[38;5;241m.\u001b[39mimread(\u001b[38;5;124m\"\u001b[39m\u001b[38;5;124mjpgs/1.jpg\u001b[39m\u001b[38;5;124m\"\u001b[39m),\n\u001b[0;32m     36\u001b[0m img2 \u001b[38;5;241m=\u001b[39m cv2\u001b[38;5;241m.\u001b[39mimread(\u001b[38;5;124m\"\u001b[39m\u001b[38;5;124mjpgs/2.jpg\u001b[39m\u001b[38;5;124m\"\u001b[39m),\n\u001b[1;32m---> 38\u001b[0m stitched_image \u001b[38;5;241m=\u001b[39m \u001b[43mstitch_images\u001b[49m\u001b[43m(\u001b[49m\u001b[43mimg1\u001b[49m\u001b[43m,\u001b[49m\u001b[43mimg2\u001b[49m\u001b[43m)\u001b[49m\n\u001b[0;32m     39\u001b[0m cv2\u001b[38;5;241m.\u001b[39mimwrite(\u001b[38;5;124m'\u001b[39m\u001b[38;5;124mstitched_image.jpg\u001b[39m\u001b[38;5;124m'\u001b[39m, stitched_image)\n",
      "Cell \u001b[1;32mIn[23], line 8\u001b[0m, in \u001b[0;36mstitch_images\u001b[1;34m(img1, img2)\u001b[0m\n\u001b[0;32m      5\u001b[0m \u001b[38;5;28;01mdef\u001b[39;00m \u001b[38;5;21mstitch_images\u001b[39m(img1,img2):\n\u001b[0;32m      6\u001b[0m \n\u001b[0;32m      7\u001b[0m     \u001b[38;5;66;03m# 提取特征点和计算描述符\u001b[39;00m\n\u001b[1;32m----> 8\u001b[0m     keypoints1, descriptors1 \u001b[38;5;241m=\u001b[39m \u001b[43mextract_features\u001b[49m\u001b[43m(\u001b[49m\u001b[43mimg1\u001b[49m\u001b[43m)\u001b[49m\n\u001b[0;32m      9\u001b[0m     keypoints2, descriptors2 \u001b[38;5;241m=\u001b[39m extract_features(img2)\n\u001b[0;32m     11\u001b[0m     \u001b[38;5;66;03m# 匹配特征点\u001b[39;00m\n",
      "Cell \u001b[1;32mIn[22], line 12\u001b[0m, in \u001b[0;36mextract_features\u001b[1;34m(img, threshold)\u001b[0m\n\u001b[0;32m      8\u001b[0m sift \u001b[38;5;241m=\u001b[39m cv2\u001b[38;5;241m.\u001b[39mSIFT_create(contrastThreshold\u001b[38;5;241m=\u001b[39mthreshold)\n\u001b[0;32m     10\u001b[0m \u001b[38;5;66;03m#gray = cv2.cvtColor(img, cv2.COLOR_BGR2GRAY)\u001b[39;00m\n\u001b[0;32m     11\u001b[0m \u001b[38;5;66;03m# 检测关键点和计算描述符\u001b[39;00m\n\u001b[1;32m---> 12\u001b[0m keypoints, descriptors \u001b[38;5;241m=\u001b[39m \u001b[43msift\u001b[49m\u001b[38;5;241;43m.\u001b[39;49m\u001b[43mdetectAndCompute\u001b[49m\u001b[43m(\u001b[49m\u001b[43mimg\u001b[49m\u001b[43m,\u001b[49m\u001b[43m \u001b[49m\u001b[38;5;28;43;01mNone\u001b[39;49;00m\u001b[43m)\u001b[49m\n\u001b[0;32m     14\u001b[0m \u001b[38;5;28;01mreturn\u001b[39;00m keypoints, descriptors\n",
      "\u001b[1;31merror\u001b[0m: OpenCV(4.9.0) :-1: error: (-5:Bad argument) in function 'detectAndCompute'\n> Overload resolution failed:\n>  - image is not a numerical tuple\n>  - Expected Ptr<cv::UMat> for argument 'image'\n"
     ]
    }
   ],
   "source": [
    "import cv2\n",
    "import numpy as np\n",
    "\n",
    "\n",
    "def stitch_images(img1,img2):\n",
    "\n",
    "    # 提取特征点和计算描述符\n",
    "    sift = cv2.SIFT_create(contrastThreshold=0.08)\n",
    "\n",
    "    # gray = cv2.cvtColor(img, cv2.COLOR_BGR2GRAY)\n",
    "    # 检测关键点和计算描述符\n",
    "    keypoints1, descriptors1 = sift.detectAndCompute(img1, None)\n",
    "keypoints2, descriptors2 = sift.detectAndCompute(img1, None)\n",
    "\n",
    "    # 匹配特征点\n",
    "    matches_all = []\n",
    "    good_matches = match_images(img1,img2)\n",
    "    matches_all.append(good_matches)\n",
    "\n",
    "    # 使用单应性矩阵拼接图片\n",
    "    src_pts = np.float32([keypoints1[m.queryIdx].pt for m in good_matches]).reshape(-1,1,2)\n",
    "    dst_pts = np.float32([keypoints2[m.trainIdx].pt for m in good_matches]).reshape(-1,1,2)\n",
    "\n",
    "    # 计算单应性矩阵\n",
    "    M, mask = cv2.findHomography(src_pts, dst_pts, cv2.RANSAC,5.0)\n",
    "\n",
    "    # 对img1应用单应性变换\n",
    "    height, width = img2.shape[:2]\n",
    "    warpimg = cv2.warpPerspective(img2, M, (width, height))\n",
    "\n",
    "    # 将img1和变换后的img2拼接\n",
    "    warpimg[0:img1.shape[0], 0:img1.shape[1]] = img1\n",
    "\n",
    "    return warpimg\n",
    "\n",
    "\n",
    "# 示例用法：\n",
    "\n",
    "img1 = cv2.imread(\"jpgs/1.jpg\"),\n",
    "img2 = cv2.imread(\"jpgs/2.jpg\"),\n",
    "\n",
    "stitched_image = stitch_images(img1,img2)\n",
    "cv2.imwrite('stitched_image.jpg', stitched_image)"
   ]
  }
 ],
 "metadata": {
  "kernelspec": {
   "display_name": "Python 3",
   "language": "python",
   "name": "python3"
  },
  "language_info": {
   "codemirror_mode": {
    "name": "ipython",
    "version": 3
   },
   "file_extension": ".py",
   "mimetype": "text/x-python",
   "name": "python",
   "nbconvert_exporter": "python",
   "pygments_lexer": "ipython3",
   "version": "3.8.19"
  }
 },
 "nbformat": 4,
 "nbformat_minor": 2
}
